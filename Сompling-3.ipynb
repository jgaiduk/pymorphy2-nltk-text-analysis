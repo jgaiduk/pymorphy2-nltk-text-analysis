{
 "cells": [
  {
   "cell_type": "markdown",
   "metadata": {},
   "source": [
    "## Домашнее задание 3 \n",
    "**Выполнили Гайдук Юлия, Панкратова Анна МЖД172**\n",
    "\n",
    "Задание: Взять коллекцию текстов (не менее 100Кб), построить базовые частотные списки, построить список ключевых слов используя алгоритм RAKE, сравнить полученные результаты.\n"
   ]
  },
  {
   "cell_type": "markdown",
   "metadata": {},
   "source": [
    "Работа выполняется на материале произведения Е. И. Рериха [\"Мир Огненный\"](http://www.lib.ru/RERIH/Rerih_Mir1.txt) объемом 2 Мб"
   ]
  },
  {
   "cell_type": "code",
   "execution_count": 152,
   "metadata": {
    "collapsed": true
   },
   "outputs": [],
   "source": [
    "import re\n",
    "import sys\n",
    "\n",
    "import pymorphy2\n",
    "from rake_nltk import Metric, Rake\n",
    "\n",
    "import matplotlib.pyplot as plt\n",
    "%matplotlib inline\n",
    "\n",
    "sys.path.append(r'C:\\Users\\user\\AppData\\Local\\Programs\\Python\\Python36-32\\Lib\\site-packages')"
   ]
  },
  {
   "cell_type": "markdown",
   "metadata": {},
   "source": [
    "Для начала создадим необходимые функции для подготовки текста: удаление пунктуации, лемматизация."
   ]
  },
  {
   "cell_type": "code",
   "execution_count": 141,
   "metadata": {
    "collapsed": true
   },
   "outputs": [],
   "source": [
    "def prepare_text(text):\n",
    "    # Убирает знаки препинания и символы. \n",
    "    text = re.sub(r'[^\\w\\s]','', text)\n",
    "    text = re.sub(r'[0-9]+', '', text)\n",
    "    text = text.replace('\\n','')\n",
    "    text = text.replace('\\x14','')\n",
    "    text = text.replace('\\x15','')\n",
    "    text = text.replace('pp','')\n",
    "    return text\n",
    "\n",
    "def normalize_text(text):\n",
    "    # На вход подаётся подготовленный список слов. Возвращает список лемм.\n",
    "    morph = pymorphy2.MorphAnalyzer()\n",
    "    normed_text = []\n",
    "    for word in text:\n",
    "        normed_word = morph.parse(word)[0].normal_form\n",
    "        normed_text.append(normed_word)\n",
    "    return normed_text"
   ]
  },
  {
   "cell_type": "code",
   "execution_count": 142,
   "metadata": {},
   "outputs": [],
   "source": [
    "with open(\"Rerih_Mir.txt\") as f:\n",
    "    text = f.read()\n",
    "text = prepare_text(text).split()\n",
    "norm_text = normalize_text(text) # содержит леммы"
   ]
  },
  {
   "cell_type": "code",
   "execution_count": 143,
   "metadata": {},
   "outputs": [
    {
     "data": {
      "text/plain": [
       "''"
      ]
     },
     "execution_count": 143,
     "metadata": {},
     "output_type": "execute_result"
    }
   ],
   "source": [
    "# загружаем список стоп-слов\n",
    "with open(\"ru_stop_words.txt\") as f:\n",
    "    stop_words = f.read()\n",
    "stop_words = stop_words.split(\"\\n\")\n",
    "stop_words.pop(-1)"
   ]
  },
  {
   "cell_type": "code",
   "execution_count": 144,
   "metadata": {
    "collapsed": true
   },
   "outputs": [],
   "source": [
    "# очищаем текст от стоп-слов\n",
    "processed_text = [word for word in norm_text if word not in stop_words]"
   ]
  },
  {
   "cell_type": "markdown",
   "metadata": {},
   "source": [
    "Создадим функции для подсчёта частот и рангов."
   ]
  },
  {
   "cell_type": "code",
   "execution_count": 145,
   "metadata": {
    "collapsed": true
   },
   "outputs": [],
   "source": [
    "def get_Afreq(text):\n",
    "    # На вход подаётся список элементов.\n",
    "    # Возвращает словарь абсолютных частот, где ключами являются элементы, \n",
    "    # а значениями — количество появлений элемента в тексте.\n",
    "    from collections import Counter\n",
    "    c = Counter()\n",
    "    for word in text:\n",
    "        c.update({word:1})\n",
    "    return dict(c)"
   ]
  },
  {
   "cell_type": "code",
   "execution_count": 146,
   "metadata": {
    "collapsed": true
   },
   "outputs": [],
   "source": [
    "def get_Rfreq(text):\n",
    "    # На вход подаётся список элементов. Возвращает словарь относительных частот,\n",
    "    # где ключами являются элементы,\n",
    "    # а значениями — их относительные частоты.\n",
    "    Afreq_dict = get_Afreq(text)\n",
    "    Rfreq_dict = {}\n",
    "    t = len(text)\n",
    "    for key, value in Afreq_dict.items():\n",
    "        Rfreq_dict[key] = value/t\n",
    "    return Rfreq_dict"
   ]
  },
  {
   "cell_type": "code",
   "execution_count": 147,
   "metadata": {
    "collapsed": true
   },
   "outputs": [],
   "source": [
    "def get_rank(text):\n",
    "    # Принимает на вход список элементов. Возвращает словарь рангов,\n",
    "    # где ключами являются элементы, а значениями — их ранги.\n",
    "    # Ранг — порядковый номер слова в списке, упорядоченном по убыванию частот\n",
    "    from operator import itemgetter\n",
    "    Rank_dict = {}\n",
    "    Afreq_dict = get_Afreq(text)\n",
    "    freq_list = sorted(Afreq_dict.items(), key=itemgetter(1), reverse=True)\n",
    "    for n, tpl in enumerate(freq_list, start=1):\n",
    "        Rank_dict[tpl[0]] = n\n",
    "    return Rank_dict"
   ]
  },
  {
   "cell_type": "markdown",
   "metadata": {},
   "source": [
    "Применим наши функции и посмотрим, что получилось."
   ]
  },
  {
   "cell_type": "markdown",
   "metadata": {},
   "source": [
    "Подсчёт частоты лемм. Отсортируем, чтобы увидеть, какие леммы встречаются в тексте чаще всего (топ-20 самых частотных лемм)."
   ]
  },
  {
   "cell_type": "code",
   "execution_count": 148,
   "metadata": {},
   "outputs": [
    {
     "name": "stdout",
     "output_type": "stream",
     "text": [
      "Лемма 'огненный' встречается в тексте 2168 раз.\n",
      "Лемма 'мир' встречается в тексте 1705 раз.\n",
      "Лемма 'нужно' встречается в тексте 1291 раз.\n",
      "Лемма 'можно' встречается в тексте 1163 раз.\n",
      "Лемма 'человек' встречается в тексте 1144 раз.\n",
      "Лемма 'дух' встречается в тексте 980 раз.\n",
      "Лемма 'такой' встречается в тексте 966 раз.\n",
      "Лемма 'огонь' встречается в тексте 883 раз.\n",
      "Лемма 'сердце' встречается в тексте 881 раз.\n",
      "Лемма 'который' встречается в тексте 881 раз.\n",
      "Лемма 'каждый' встречается в тексте 826 раз.\n",
      "Лемма 'энергия' встречается в тексте 813 раз.\n",
      "Лемма 'когда' встречается в тексте 809 раз.\n",
      "Лемма 'тонкий' встречается в тексте 747 раз.\n",
      "Лемма 'самый' встречается в тексте 710 раз.\n",
      "Лемма 'сознание' встречается в тексте 691 раз.\n",
      "Лемма 'высокий' встречается в тексте 664 раз.\n",
      "Лемма 'свой' встречается в тексте 643 раз.\n",
      "Лемма 'мысль' встречается в тексте 634 раз.\n",
      "Лемма 'явление' встречается в тексте 614 раз.\n"
     ]
    }
   ],
   "source": [
    "from operator import itemgetter\n",
    "Afreq_text = get_Afreq(processed_text)\n",
    "Afreq_list_sorted = sorted(Afreq_text.items(), key=itemgetter(-1), reverse=True)\n",
    "for tpl in Afreq_list_sorted[:20]:\n",
    "    print(\"Лемма '{}' встречается в тексте {} раз.\".format(tpl[0], tpl[1]))"
   ]
  },
  {
   "cell_type": "markdown",
   "metadata": {},
   "source": [
    "Можно предположить, что раз произведение озаглавлено \"Мир Огненный\", то данному вопросу будет посвящена значительная часть содержания, что и отражается в частотном списке лемм: среди наиболее часто встречающихся лемм мы видим такие элементы как \"огненный\", \"мир\", \"человек\", \"дух\". Также мы видим наверху частотного списка такие предикативы как \"можно\" и \"нужно\", что указывает на обилие в тексте фраз с модальным значением долженствования, необходимости, возможности. Можно предположить, что эти слова являются сказуемыми безличных предложений."
   ]
  },
  {
   "cell_type": "markdown",
   "metadata": {},
   "source": [
    "Выведем ранги лемм (выводятся первые 10 элементов). "
   ]
  },
  {
   "cell_type": "code",
   "execution_count": 149,
   "metadata": {
    "collapsed": true
   },
   "outputs": [],
   "source": [
    "Rank_norm_text = get_rank(processed_text) # ранги лемм"
   ]
  },
  {
   "cell_type": "code",
   "execution_count": 150,
   "metadata": {},
   "outputs": [
    {
     "name": "stdout",
     "output_type": "stream",
     "text": [
      "Лемма 'огненный' имеет ранг 1.\n",
      "Лемма 'мир' имеет ранг 2.\n",
      "Лемма 'нужно' имеет ранг 3.\n",
      "Лемма 'можно' имеет ранг 4.\n",
      "Лемма 'человек' имеет ранг 5.\n",
      "Лемма 'дух' имеет ранг 6.\n",
      "Лемма 'такой' имеет ранг 7.\n",
      "Лемма 'огонь' имеет ранг 8.\n",
      "Лемма 'сердце' имеет ранг 9.\n",
      "Лемма 'который' имеет ранг 10.\n"
     ]
    }
   ],
   "source": [
    "Rank_norm_list = []\n",
    "for word, number in Rank_norm_text.items():\n",
    "    Rank_norm_list.append((word, number))\n",
    "for tpl in Rank_norm_list[:10]:\n",
    "    print(\"Лемма '{}' имеет ранг {}.\".format(tpl[0], tpl[1]))"
   ]
  },
  {
   "cell_type": "markdown",
   "metadata": {},
   "source": [
    "Итак, у нас есть частоты и ранги лемм. Теперь можно построить графики зависимости относительной частоты от ранга. \n",
    "Для построения графика будет использоваться библиотека matplotlib."
   ]
  },
  {
   "cell_type": "markdown",
   "metadata": {},
   "source": [
    "Положим частоты на ось y, а ранги — на ось х. Построим график и посмотрим, что получилось. Мы видим, что частота обратно пропорциональна рангу. Чем выше частота, тем меньше ранг, и наоборот. График иллюстрирует эмпирический закон Ципфа. "
   ]
  },
  {
   "cell_type": "code",
   "execution_count": 151,
   "metadata": {},
   "outputs": [
    {
     "data": {
      "text/plain": [
       "<matplotlib.text.Text at 0x12e49b6a0>"
      ]
     },
     "execution_count": 151,
     "metadata": {},
     "output_type": "execute_result"
    },
    {
     "data": {
      "image/png": "[encoded data removed]",
      "text/plain": [
       "<matplotlib.figure.Figure at 0x10926e240>"
      ]
     },
     "metadata": {},
     "output_type": "display_data"
    }
   ],
   "source": [
    "Rfreq_norm_text = get_Rfreq(processed_text)\n",
    "\n",
    "y = sorted(Rfreq_norm_text.values(), reverse=True) # относительная частота\n",
    "x = sorted(Rank_norm_text.values()) # ранг\n",
    "\n",
    "plt.xkcd()\n",
    "plt.plot(x, y, color='#5b4878')\n",
    "plt.xlabel('Ранг')\n",
    "plt.ylabel('Частота')\n",
    "plt.title('Зависимость относительной частоты от ранга леммы')"
   ]
  },
  {
   "cell_type": "markdown",
   "metadata": {},
   "source": [
    "Теперь применим алгоритм RAKE. Применим его на лемматизированном и на нелемматизированном текстах, сравним словосочетания длины в 2 и 3 слова. Мы видим, что в составе наиболее часто встречающихся словосочетаний лежат леммы, которые pymorphy2 определил как наиболее частотные."
   ]
  },
  {
   "cell_type": "code",
   "execution_count": 153,
   "metadata": {},
   "outputs": [],
   "source": [
    "with open(\"Rerih_Mir.txt\") as f:\n",
    "    text = f.read()\n",
    "text = prepare_text(text)"
   ]
  },
  {
   "cell_type": "code",
   "execution_count": 159,
   "metadata": {
    "collapsed": true
   },
   "outputs": [],
   "source": [
    "split_text = text.split()\n",
    "norm_text = normalize_text(split_text)\n",
    "prep_text = \" \".join(norm_text)"
   ]
  },
  {
   "cell_type": "code",
   "execution_count": 200,
   "metadata": {},
   "outputs": [
    {
     "name": "stdout",
     "output_type": "stream",
     "text": [
      "Наиболее часто встречающиеся словосочетания длины 2 по лемматизированному тексту:\n",
      "огненный дух\n",
      "дух человек\n",
      "только человек\n",
      "огненный сознание\n",
      "сердце огненный\n",
      "огненный сердце\n",
      "сознание человек\n",
      "огонь дух\n",
      "огненный мир\n",
      "мир огненный\n"
     ]
    }
   ],
   "source": [
    "# Лемматизированный текст, сортировка по частоте, длина 2\n",
    "r = Rake(language=\"russian\", stopwords=stop_words, max_length=2, ranking_metric=Metric.WORD_FREQUENCY)\n",
    "r.extract_keywords_from_text(prep_text)\n",
    "freq_2 = r.get_ranked_phrases() \n",
    "print(\"Наиболее часто встречающиеся словосочетания длины 2 по лемматизированному тексту:\")\n",
    "for item in freq_2[:10]:\n",
    "    print(item)"
   ]
  },
  {
   "cell_type": "code",
   "execution_count": 201,
   "metadata": {},
   "outputs": [
    {
     "name": "stdout",
     "output_type": "stream",
     "text": [
      "Наиболее часто встречающиеся словосочетания длины 3 по лемматизированному тексту:\n",
      "мир огненный человек\n",
      "огненный мир нужно\n",
      "мир огненный нужно\n",
      "мир огненный можно\n",
      "мир огненный сердце\n",
      "энергия огненный мир\n",
      "огненный мир когда\n",
      "мир огненный когда\n",
      "земной мир огненный\n",
      "мир огненный ибо\n"
     ]
    }
   ],
   "source": [
    "# Лемматизированный текст, сортировка по частоте, длина 3\n",
    "r = Rake(language=\"russian\", stopwords=stop_words, max_length=3, ranking_metric=Metric.WORD_FREQUENCY)\n",
    "r.extract_keywords_from_text(prep_text)\n",
    "freq_3 = r.get_ranked_phrases() # Сортировка по частоте, длина 3\n",
    "print(\"Наиболее часто встречающиеся словосочетания длины 3 по лемматизированному тексту:\")\n",
    "for item in freq_3[:10]:\n",
    "    print(item)"
   ]
  },
  {
   "cell_type": "code",
   "execution_count": 202,
   "metadata": {},
   "outputs": [
    {
     "name": "stdout",
     "output_type": "stream",
     "text": [
      "Наиболее часто встречающиеся словосочетания длины 2 по нелемматизированному тексту:\n",
      "может сердце\n",
      "будет нужно\n",
      "только могут\n",
      "жизни может\n",
      "сознание может\n",
      "нужно сердце\n",
      "можно будет\n",
      "огонь может\n",
      "огненного нужно\n",
      "только тонкого\n"
     ]
    }
   ],
   "source": [
    "# Нелемматизированный текст, сортировка по частоте, длина 2\n",
    "r = Rake(language=\"russian\", stopwords=stop_words, max_length=2, ranking_metric=Metric.WORD_FREQUENCY)\n",
    "r.extract_keywords_from_text(text)\n",
    "freq_2_simple = r.get_ranked_phrases() # Сортировка по частоте, длина 2\n",
    "print(\"Наиболее часто встречающиеся словосочетания длины 2 по нелемматизированному тексту:\")\n",
    "for item in freq_2_simple[:10]:\n",
    "    print(item)"
   ]
  },
  {
   "cell_type": "code",
   "execution_count": 203,
   "metadata": {},
   "outputs": [
    {
     "name": "stdout",
     "output_type": "stream",
     "text": [
      "Наиболее часто встречающиеся словосочетания длины 3 по нелемматизированному тексту:\n",
      "нужно строительство можно\n",
      "может остановиться можно\n",
      "нужно только вспомнить\n",
      "только можно надеяться\n",
      "может уменьшиться только\n",
      "когда нужно напомнить\n",
      "только можно усвоить\n",
      "будет нужно\n",
      "нужно говорить ибо\n",
      "нужно растерзание духа\n"
     ]
    }
   ],
   "source": [
    "# Нелемматизированный текст, сортировка по частоте, длина 2\n",
    "r = Rake(language=\"russian\", stopwords=stop_words, max_length=3, ranking_metric=Metric.WORD_FREQUENCY)\n",
    "r.extract_keywords_from_text(text)\n",
    "freq_3_simple = r.get_ranked_phrases() # Сортировка по частоте, длина 3\n",
    "print(\"Наиболее часто встречающиеся словосочетания длины 3 по нелемматизированному тексту:\")\n",
    "for item in freq_3_simple[:10]:\n",
    "    print(item)"
   ]
  },
  {
   "cell_type": "markdown",
   "metadata": {},
   "source": [
    "**Выводы**"
   ]
  },
  {
   "cell_type": "markdown",
   "metadata": {},
   "source": [
    "* Анализ списка частотности лемм показал, что в выбранном произведении в топе списка частот оказались слова, тесно связанные с тематикой произведения (например *огненный*, *человек*, *дух*. Можно предположить, что в текстах узкой направленности или специализированных текстах в списке частотности лемм будут присутствовать слова, связанные с тематикой текста. \n",
    "\n",
    "* При построении графиков зависимости частоты от ранга выяснилось, что чем выше частота, тем меньше ранг. Частота обратно пропорциональна рангу и для словоформ, и для лемм, что подтверждает закон Ципфа. \n",
    "\n",
    "* Анализ наиболее часто встречающихся словосочетаний показал, что в их основе лежат леммы, выделенные как наиболее частотные на раннем этапе."
   ]
  },
  {
   "cell_type": "code",
   "execution_count": null,
   "metadata": {
    "collapsed": true
   },
   "outputs": [],
   "source": []
  }
 ],
 "metadata": {
  "kernelspec": {
   "display_name": "Python 3",
   "language": "python",
   "name": "python3"
  },
  "language_info": {
   "codemirror_mode": {
    "name": "ipython",
    "version": 3
   },
   "file_extension": ".py",
   "mimetype": "text/x-python",
   "name": "python",
   "nbconvert_exporter": "python",
   "pygments_lexer": "ipython3",
   "version": "3.6.3"
  }
 },
 "nbformat": 4,
 "nbformat_minor": 2
}
