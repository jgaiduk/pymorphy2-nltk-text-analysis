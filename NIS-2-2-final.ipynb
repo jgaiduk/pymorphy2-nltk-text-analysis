{
 "cells": [
  {
   "cell_type": "markdown",
   "metadata": {},
   "source": [
    "## Задание 2 из части II \n",
    "**Выполнила Гайдук Юлия, МЖД172**\n",
    "\n",
    "\n",
    "* Выполнить лемматизацию выбранного объемного текста на русском языке, а также подсчет частоты и рангов различных словоформ и лемм.\n",
    "* Построить графики зависимости относительной частоты от ранга словоформы и леммы, соответственно. \n",
    "* Проверить выполнение закона Ципфа-Мальдеброта.\n",
    "\n",
    "В отчет включить также топ-50 самых частотных словоформ и лемм, построенные графики зависимости, \n",
    "выводы по проведенному исследованию.\n"
   ]
  },
  {
   "cell_type": "markdown",
   "metadata": {},
   "source": [
    "Задание выполняется на материале произведения Е. И. Рериха [\"Мир Огненный\"](http://www.lib.ru/RERIH/Rerih_Mir1.txt)\n",
    "\n",
    "Используется морфологический модуль pymorphy2. "
   ]
  },
  {
   "cell_type": "code",
   "execution_count": 69,
   "metadata": {
    "collapsed": true
   },
   "outputs": [],
   "source": [
    "import sys\n",
    "sys.path.append(r'C:\\Users\\user\\AppData\\Local\\Programs\\Python\\Python36-32\\Lib\\site-packages')\n",
    "import pymorphy2\n",
    "morph = pymorphy2.MorphAnalyzer()"
   ]
  },
  {
   "cell_type": "markdown",
   "metadata": {},
   "source": [
    "Для начала создадим необходимые функции для импорта текста и его подготовки: удаления пунктуации, разбивки на слова. Также нам понадобится функция для лемматизации выбранного текста."
   ]
  },
  {
   "cell_type": "code",
   "execution_count": 3,
   "metadata": {
    "collapsed": true
   },
   "outputs": [],
   "source": [
    "def get_text(filename):\n",
    "    # Принимает на вход название файла с текстом. Возвращает текст в виде строки.\n",
    "    with open(filename) as f:\n",
    "        text = f.read()\n",
    "    return text"
   ]
  },
  {
   "cell_type": "code",
   "execution_count": 70,
   "metadata": {
    "collapsed": true
   },
   "outputs": [],
   "source": [
    "def prepare_text(text):\n",
    "    # Убирает знаки препинания, разделяет текст на слова. Возвращает текст в виде списка словоформ.\n",
    "    import re\n",
    "    no_punct = re.sub(r'[^\\w\\s]','', text)\n",
    "    txt = no_punct.split()\n",
    "    return txt"
   ]
  },
  {
   "cell_type": "code",
   "execution_count": 75,
   "metadata": {
    "collapsed": true
   },
   "outputs": [],
   "source": [
    "def normalize_text(text):\n",
    "    # На вход подаётся список словоформ. Возвращает список лемм.\n",
    "    import pymorphy2\n",
    "    morph = pymorphy2.MorphAnalyzer()\n",
    "    normed_text = []\n",
    "    \n",
    "    for word in text:\n",
    "        normed_word = morph.parse(word)[0].normal_form\n",
    "        normed_text.append(normed_word)\n",
    "    return normed_text"
   ]
  },
  {
   "cell_type": "markdown",
   "metadata": {},
   "source": [
    "Используем функции, чтобы получить в итоге две переменные: в одной будет храниться список словоформ, а другой — список лемм."
   ]
  },
  {
   "cell_type": "code",
   "execution_count": 77,
   "metadata": {
    "collapsed": true
   },
   "outputs": [],
   "source": [
    "text = get_text('Rerih_Mir1.txt')\n",
    "text = prepare_text(text) # содержит словоформы\n",
    "norm_text = normalize_text(text) # содержит леммы"
   ]
  },
  {
   "cell_type": "markdown",
   "metadata": {},
   "source": [
    "Создадим функции для подсчёта абсолютных и относительных частот и рангов."
   ]
  },
  {
   "cell_type": "code",
   "execution_count": 15,
   "metadata": {
    "collapsed": true
   },
   "outputs": [],
   "source": [
    "def get_Afreq(text):\n",
    "    # На вход подаётся список элементов.\n",
    "    # Возвращает словарь абсолютных частот, где ключами являются элементы, \n",
    "    # а значениями — количество появлений элемента в тексте.\n",
    "    from collections import Counter\n",
    "    c = Counter()\n",
    "    for word in text:\n",
    "        c.update({word:1})\n",
    "    return dict(c)"
   ]
  },
  {
   "cell_type": "code",
   "execution_count": 136,
   "metadata": {
    "collapsed": true
   },
   "outputs": [],
   "source": [
    "def get_Rfreq(text):\n",
    "    # На вход подаётся список элементов. Возвращает словарь относительных частот,\n",
    "    # где ключами являются элементы,\n",
    "    # а значениями — их относительные частоты.\n",
    "    Afreq_dict = get_Afreq(text)\n",
    "    Rfreq_dict = {}\n",
    "    t = len(text)\n",
    "    for key, value in Afreq_dict.items():\n",
    "        Rfreq_dict[key] = value/t\n",
    "    return Rfreq_dict"
   ]
  },
  {
   "cell_type": "code",
   "execution_count": 17,
   "metadata": {
    "collapsed": true
   },
   "outputs": [],
   "source": [
    "def get_rank(text):\n",
    "    # Принимает на вход список элементов. Возвращает словарь рангов,\n",
    "    # где ключами являются элементы, а значениями — их ранги.\n",
    "    # Ранг — порядковый номер слова в списке, упорядоченном по убыванию частот\n",
    "    from operator import itemgetter\n",
    "    Rank_dict = {}\n",
    "    Afreq_dict = get_Afreq(text)\n",
    "    freq_list = sorted(Afreq_dict.items(), key=itemgetter(1), reverse=True)\n",
    "    for n, tpl in enumerate(freq_list, start=1):\n",
    "        Rank_dict[tpl[0]] = n\n",
    "    return Rank_dict"
   ]
  },
  {
   "cell_type": "markdown",
   "metadata": {},
   "source": [
    "Применим наши функции и посмотрим, что получилось."
   ]
  },
  {
   "cell_type": "markdown",
   "metadata": {},
   "source": [
    "Подсчёт частоты словоформ. Выводится в несортированном виде (первые 20 элементов)."
   ]
  },
  {
   "cell_type": "code",
   "execution_count": 194,
   "metadata": {},
   "outputs": [
    {
     "name": "stdout",
     "output_type": "stream",
     "text": [
      "Элемент 'Ур' встречается в тексте 35 раз.\n",
      "Элемент 'есть' встречается в тексте 610 раз.\n",
      "Элемент 'корень' встречается в тексте 4 раз.\n",
      "Элемент 'Света' встречается в тексте 170 раз.\n",
      "Элемент 'Огня' встречается в тексте 232 раз.\n",
      "Элемент 'С' встречается в тексте 17 раз.\n",
      "Элемент 'незапамятных' встречается в тексте 2 раз.\n",
      "Элемент 'времен' встречается в тексте 15 раз.\n",
      "Элемент 'это' встречается в тексте 375 раз.\n",
      "Элемент 'Светоносное' встречается в тексте 1 раз.\n",
      "Элемент 'Начало' встречается в тексте 24 раз.\n",
      "Элемент 'привлекало' встречается в тексте 2 раз.\n",
      "Элемент 'сердца' встречается в тексте 332 раз.\n",
      "Элемент 'многих' встречается в тексте 84 раз.\n",
      "Элемент 'народов' встречается в тексте 29 раз.\n",
      "Элемент 'Так' встречается в тексте 899 раз.\n",
      "Элемент 'из' встречается в тексте 309 раз.\n",
      "Элемент 'прошлых' встречается в тексте 7 раз.\n",
      "Элемент 'Заветов' встречается в тексте 6 раз.\n",
      "Элемент 'перенесемся' встречается в тексте 1 раз.\n"
     ]
    }
   ],
   "source": [
    "Afreq_text = get_Afreq(text)\n",
    "Afreq_list = []\n",
    "for word, number in Afreq_text.items():\n",
    "    Afreq_list.append((word, number))\n",
    "for tpl in Afreq_list[:20]:\n",
    "    print(\"Элемент '{}' встречается в тексте {} раз.\".format(tpl[0], tpl[1]))"
   ]
  },
  {
   "cell_type": "markdown",
   "metadata": {},
   "source": [
    "Отсортируем, чтобы увидеть, какие словоформы встречаются в тексте чаще всего (топ-50 самых частотных словоформ)."
   ]
  },
  {
   "cell_type": "code",
   "execution_count": 193,
   "metadata": {},
   "outputs": [
    {
     "name": "stdout",
     "output_type": "stream",
     "text": [
      "Словоформа 'и' встречается в тексте 3844 раз.\n",
      "Словоформа 'в' встречается в тексте 2849 раз.\n",
      "Словоформа 'не' встречается в тексте 2849 раз.\n",
      "Словоформа 'к' встречается в тексте 1658 раз.\n",
      "Словоформа 'но' встречается в тексте 1580 раз.\n",
      "Словоформа 'как' встречается в тексте 1464 раз.\n",
      "Словоформа 'на' встречается в тексте 1392 раз.\n",
      "Словоформа 'что' встречается в тексте 1370 раз.\n",
      "Словоформа 'может' встречается в тексте 987 раз.\n",
      "Словоформа 'о' встречается в тексте 915 раз.\n",
      "Словоформа 'Так' встречается в тексте 899 раз.\n",
      "Словоформа 'Но' встречается в тексте 793 раз.\n",
      "Словоформа 'нужно' встречается в тексте 793 раз.\n",
      "Словоформа 'от' встречается в тексте 787 раз.\n",
      "Словоформа 'с' встречается в тексте 758 раз.\n",
      "Словоформа 'все' встречается в тексте 663 раз.\n",
      "Словоформа 'можно' встречается в тексте 653 раз.\n",
      "Словоформа 'есть' встречается в тексте 610 раз.\n",
      "Словоформа 'Не' встречается в тексте 595 раз.\n",
      "Словоформа 'для' встречается в тексте 573 раз.\n",
      "Словоформа 'так' встречается в тексте 573 раз.\n",
      "Словоформа 'будет' встречается в тексте 561 раз.\n",
      "Словоформа 'когда' встречается в тексте 557 раз.\n",
      "Словоформа 'же' встречается в тексте 557 раз.\n",
      "Словоформа 'Можно' встречается в тексте 510 раз.\n",
      "Словоформа 'бы' встречается в тексте 505 раз.\n",
      "Словоформа 'быть' встречается в тексте 504 раз.\n",
      "Словоформа 'Нужно' встречается в тексте 498 раз.\n",
      "Словоформа 'Мира' встречается в тексте 483 раз.\n",
      "Словоформа 'духа' встречается в тексте 472 раз.\n",
      "Словоформа 'лишь' встречается в тексте 471 раз.\n",
      "Словоформа 'то' встречается в тексте 435 раз.\n",
      "Словоформа 'ибо' встречается в тексте 424 раз.\n",
      "Словоформа 'могут' встречается в тексте 415 раз.\n",
      "Словоформа 'уже' встречается в тексте 408 раз.\n",
      "Словоформа 'энергии' встречается в тексте 406 раз.\n",
      "Словоформа 'люди' встречается в тексте 402 раз.\n",
      "Словоформа 'только' встречается в тексте 387 раз.\n",
      "Словоформа 'Миру' встречается в тексте 378 раз.\n",
      "Словоформа 'это' встречается в тексте 375 раз.\n",
      "Словоформа 'пути' встречается в тексте 374 раз.\n",
      "Словоформа 'сердце' встречается в тексте 366 раз.\n",
      "Словоформа 'при' встречается в тексте 366 раз.\n",
      "Словоформа 'по' встречается в тексте 353 раз.\n",
      "Словоформа 'Огненному' встречается в тексте 349 раз.\n",
      "Словоформа 'которые' встречается в тексте 348 раз.\n",
      "Словоформа 'Мир' встречается в тексте 342 раз.\n",
      "Словоформа 'или' встречается в тексте 342 раз.\n",
      "Словоформа 'даже' встречается в тексте 340 раз.\n",
      "Словоформа 'чтобы' встречается в тексте 339 раз.\n"
     ]
    }
   ],
   "source": [
    "from operator import itemgetter\n",
    "Afreq_list_sorted = sorted(Afreq_text.items(), key=itemgetter(-1), reverse=True)\n",
    "for tpl in Afreq_list_sorted[:50]:\n",
    "    print(\"Словоформа '{}' встречается в тексте {} раз.\".format(tpl[0], tpl[1]))"
   ]
  },
  {
   "cell_type": "markdown",
   "metadata": {},
   "source": [
    "Наверху списка мы видим предлоги и союзы, что неудивительно, поскольку эти словоформы являются наиболее частотными и в языке в целом.\n",
    "\n",
    "Повторим то же самое с лемматизированным текстом (первые 20 элементов)."
   ]
  },
  {
   "cell_type": "code",
   "execution_count": 192,
   "metadata": {},
   "outputs": [
    {
     "name": "stdout",
     "output_type": "stream",
     "text": [
      "Элемент 'ур' встречается в тексте 35 раз.\n",
      "Элемент 'есть' встречается в тексте 625 раз.\n",
      "Элемент 'корень' встречается в тексте 19 раз.\n",
      "Элемент 'свет' встречается в тексте 306 раз.\n",
      "Элемент 'огонь' встречается в тексте 883 раз.\n",
      "Элемент 'с' встречается в тексте 878 раз.\n",
      "Элемент 'незапамятный' встречается в тексте 4 раз.\n",
      "Элемент 'время' встречается в тексте 205 раз.\n",
      "Элемент 'это' встречается в тексте 841 раз.\n",
      "Элемент 'светоносный' встречается в тексте 9 раз.\n",
      "Элемент 'начать' встречается в тексте 158 раз.\n",
      "Элемент 'привлекать' встречается в тексте 30 раз.\n",
      "Элемент 'сердце' встречается в тексте 881 раз.\n",
      "Элемент 'многий' встречается в тексте 153 раз.\n",
      "Элемент 'народ' встречается в тексте 100 раз.\n",
      "Элемент 'так' встречается в тексте 1472 раз.\n",
      "Элемент 'из' встречается в тексте 339 раз.\n",
      "Элемент 'прошлое' встречается в тексте 49 раз.\n",
      "Элемент 'завет' встречается в тексте 53 раз.\n",
      "Элемент 'перенестись' встречается в тексте 1 раз.\n"
     ]
    }
   ],
   "source": [
    "Afreq_norm_text = get_Afreq(norm_text)\n",
    "Afreq_norm_list = []\n",
    "for word, number in Afreq_norm_text.items():\n",
    "    Afreq_norm_list.append((word, number))\n",
    "for tpl in Afreq_norm_list[:20]:\n",
    "    print(\"Элемент '{}' встречается в тексте {} раз.\".format(tpl[0], tpl[1]))"
   ]
  },
  {
   "cell_type": "markdown",
   "metadata": {},
   "source": [
    "Можно заметить интересные моменты при сравнении с частотным списком словоформ. Например, словоформа \"народов\" встречается в тексте 29 раз, а лемма \"народ\" встречается в тексте 100 раз.\n",
    "\n",
    "Теперь отсортируем, чтобы увидеть самые частотные леммы (топ-50 самых частотных лемм)."
   ]
  },
  {
   "cell_type": "code",
   "execution_count": 191,
   "metadata": {},
   "outputs": [
    {
     "name": "stdout",
     "output_type": "stream",
     "text": [
      "Словоформа 'и' встречается в тексте 3988 раз.\n",
      "Словоформа 'не' встречается в тексте 3444 раз.\n",
      "Словоформа 'в' встречается в тексте 3348 раз.\n",
      "Словоформа 'но' встречается в тексте 2373 раз.\n",
      "Словоформа 'огненный' встречается в тексте 2167 раз.\n",
      "Словоформа 'к' встречается в тексте 1743 раз.\n",
      "Словоформа 'мир' встречается в тексте 1704 раз.\n",
      "Словоформа 'быть' встречается в тексте 1662 раз.\n",
      "Словоформа 'как' встречается в тексте 1617 раз.\n",
      "Словоформа 'мочь' встречается в тексте 1614 раз.\n",
      "Словоформа 'на' встречается в тексте 1575 раз.\n",
      "Словоформа 'так' встречается в тексте 1472 раз.\n",
      "Словоформа 'весь' встречается в тексте 1426 раз.\n",
      "Словоформа 'что' встречается в тексте 1418 раз.\n",
      "Словоформа 'нужно' встречается в тексте 1291 раз.\n",
      "Словоформа 'можно' встречается в тексте 1163 раз.\n",
      "Словоформа 'человек' встречается в тексте 1144 раз.\n",
      "Словоформа 'о' встречается в тексте 1128 раз.\n",
      "Словоформа 'дух' встречается в тексте 980 раз.\n",
      "Словоформа 'такой' встречается в тексте 966 раз.\n",
      "Словоформа 'они' встречается в тексте 915 раз.\n",
      "Словоформа 'огонь' встречается в тексте 883 раз.\n",
      "Словоформа 'сердце' встречается в тексте 881 раз.\n",
      "Словоформа 'который' встречается в тексте 881 раз.\n",
      "Словоформа 'с' встречается в тексте 878 раз.\n",
      "Словоформа 'это' встречается в тексте 841 раз.\n",
      "Словоформа 'он' встречается в тексте 840 раз.\n",
      "Словоформа 'каждый' встречается в тексте 826 раз.\n",
      "Словоформа 'от' встречается в тексте 820 раз.\n",
      "Словоформа 'энергия' встречается в тексте 813 раз.\n",
      "Словоформа 'когда' встречается в тексте 809 раз.\n",
      "Словоформа 'тонкий' встречается в тексте 747 раз.\n",
      "Словоформа 'самый' встречается в тексте 710 раз.\n",
      "Словоформа 'этот' встречается в тексте 696 раз.\n",
      "Словоформа 'сознание' встречается в тексте 691 раз.\n",
      "Словоформа 'высокий' встречается в тексте 664 раз.\n",
      "Словоформа 'свой' встречается в тексте 643 раз.\n",
      "Словоформа 'мысль' встречается в тексте 634 раз.\n",
      "Словоформа 'есть' встречается в тексте 625 раз.\n",
      "Словоформа 'для' встречается в тексте 618 раз.\n",
      "Словоформа 'явление' встречается в тексте 614 раз.\n",
      "Словоформа 'путь' встречается в тексте 579 раз.\n",
      "Словоформа 'тот' встречается в тексте 563 раз.\n",
      "Словоформа 'должный' встречается в тексте 560 раз.\n",
      "Словоформа 'же' встречается в тексте 558 раз.\n",
      "Словоформа 'лишь' встречается в тексте 557 раз.\n",
      "Словоформа 'жизнь' встречается в тексте 544 раз.\n",
      "Словоформа 'только' встречается в тексте 536 раз.\n",
      "Словоформа 'мы' встречается в тексте 523 раз.\n",
      "Словоформа 'при' встречается в тексте 507 раз.\n"
     ]
    }
   ],
   "source": [
    "from operator import itemgetter\n",
    "Afreq_norm_list_sorted = sorted(Afreq_norm_text.items(), key=itemgetter(-1), reverse=True)\n",
    "for tpl in Afreq_norm_list_sorted[:50]:\n",
    "    print(\"Словоформа '{}' встречается в тексте {} раз.\".format(tpl[0], tpl[1]))"
   ]
  },
  {
   "cell_type": "markdown",
   "metadata": {},
   "source": [
    "В основном топ элементов не изменился в сравнении с сортировкой словоформ, но мы можем увидеть несколько новых элементов: 'огненный', 'человек', 'дух'. Можно предположить, что раз произведение озаглавлено \"Мир Огненный\", то данному вопросу будет посвящена значительная часть содержания, что и отражается в частотном списке лемм. "
   ]
  },
  {
   "cell_type": "markdown",
   "metadata": {},
   "source": [
    "Выведем ранги словоформ и лемм (выводятся первые 20 элементов). "
   ]
  },
  {
   "cell_type": "code",
   "execution_count": 189,
   "metadata": {
    "collapsed": true
   },
   "outputs": [],
   "source": [
    "Rank_text = get_rank(text) # ранги словоформ\n",
    "Rank_norm_text = get_rank(norm_text) # ранги лемм"
   ]
  },
  {
   "cell_type": "code",
   "execution_count": 190,
   "metadata": {},
   "outputs": [
    {
     "name": "stdout",
     "output_type": "stream",
     "text": [
      "Словоформа 'и' имеет ранг 1.\n",
      "Словоформа 'в' имеет ранг 2.\n",
      "Словоформа 'не' имеет ранг 3.\n",
      "Словоформа 'к' имеет ранг 4.\n",
      "Словоформа 'но' имеет ранг 5.\n",
      "Словоформа 'как' имеет ранг 6.\n",
      "Словоформа 'на' имеет ранг 7.\n",
      "Словоформа 'что' имеет ранг 8.\n",
      "Словоформа 'может' имеет ранг 9.\n",
      "Словоформа 'о' имеет ранг 10.\n",
      "Словоформа 'Так' имеет ранг 11.\n",
      "Словоформа 'Но' имеет ранг 12.\n",
      "Словоформа 'нужно' имеет ранг 13.\n",
      "Словоформа 'от' имеет ранг 14.\n",
      "Словоформа 'с' имеет ранг 15.\n",
      "Словоформа 'все' имеет ранг 16.\n",
      "Словоформа 'можно' имеет ранг 17.\n",
      "Словоформа 'есть' имеет ранг 18.\n",
      "Словоформа 'Не' имеет ранг 19.\n",
      "Словоформа 'для' имеет ранг 20.\n"
     ]
    }
   ],
   "source": [
    "Rank_list = []\n",
    "for word, number in Rank_text.items():\n",
    "    Rank_list.append((word, number))\n",
    "for tpl in Rank_list[:20]:\n",
    "    print(\"Словоформа '{}' имеет ранг {}.\".format(tpl[0], tpl[1]))"
   ]
  },
  {
   "cell_type": "code",
   "execution_count": 195,
   "metadata": {},
   "outputs": [
    {
     "name": "stdout",
     "output_type": "stream",
     "text": [
      "Словоформа 'и' имеет ранг 1.\n",
      "Словоформа 'не' имеет ранг 2.\n",
      "Словоформа 'в' имеет ранг 3.\n",
      "Словоформа 'но' имеет ранг 4.\n",
      "Словоформа 'огненный' имеет ранг 5.\n",
      "Словоформа 'к' имеет ранг 6.\n",
      "Словоформа 'мир' имеет ранг 7.\n",
      "Словоформа 'быть' имеет ранг 8.\n",
      "Словоформа 'как' имеет ранг 9.\n",
      "Словоформа 'мочь' имеет ранг 10.\n",
      "Словоформа 'на' имеет ранг 11.\n",
      "Словоформа 'так' имеет ранг 12.\n",
      "Словоформа 'весь' имеет ранг 13.\n",
      "Словоформа 'что' имеет ранг 14.\n",
      "Словоформа 'нужно' имеет ранг 15.\n",
      "Словоформа 'можно' имеет ранг 16.\n",
      "Словоформа 'человек' имеет ранг 17.\n",
      "Словоформа 'о' имеет ранг 18.\n",
      "Словоформа 'дух' имеет ранг 19.\n",
      "Словоформа 'такой' имеет ранг 20.\n"
     ]
    }
   ],
   "source": [
    "Rank_norm_list = []\n",
    "for word, number in Rank_norm_text.items():\n",
    "    Rank_norm_list.append((word, number))\n",
    "for tpl in Rank_norm_list[:20]:\n",
    "    print(\"Словоформа '{}' имеет ранг {}.\".format(tpl[0], tpl[1]))"
   ]
  },
  {
   "cell_type": "markdown",
   "metadata": {},
   "source": [
    "Итак, у нас есть частоты и ранги словоформ и лемм. Теперь можно построить графики зависимости относительной частоты от ранга словоформ и лемм. \n",
    "\n",
    "Начнем со словоформ. Для построеня графика будет использоваться библиотека matplotlib."
   ]
  },
  {
   "cell_type": "code",
   "execution_count": 105,
   "metadata": {
    "collapsed": true
   },
   "outputs": [],
   "source": [
    "import matplotlib.pyplot as plt\n",
    "%matplotlib inline"
   ]
  },
  {
   "cell_type": "markdown",
   "metadata": {},
   "source": [
    "Нам понадобятся список относительных частот словоформ. Воспользуемся функцией, написанной ранее. "
   ]
  },
  {
   "cell_type": "code",
   "execution_count": 108,
   "metadata": {
    "collapsed": true
   },
   "outputs": [],
   "source": [
    "Rfreq_text = get_Rfreq(text)"
   ]
  },
  {
   "cell_type": "markdown",
   "metadata": {},
   "source": [
    "Теперь положим частоты на ось y, а ранги — на ось х."
   ]
  },
  {
   "cell_type": "code",
   "execution_count": 197,
   "metadata": {
    "collapsed": true
   },
   "outputs": [],
   "source": [
    "y = sorted(Rfreq_text.values(), reverse=True) # относительная частота\n",
    "x = sorted(Rank_text.values()) # ранг"
   ]
  },
  {
   "cell_type": "markdown",
   "metadata": {},
   "source": [
    "Построим график и посмотрим, что получилось."
   ]
  },
  {
   "cell_type": "code",
   "execution_count": 198,
   "metadata": {},
   "outputs": [
    {
     "data": {
      "text/plain": [
       "Text(0.5,1,'Зависимость относительной частоты от ранга словоформы')"
      ]
     },
     "execution_count": 198,
     "metadata": {},
     "output_type": "execute_result"
    },
    {
     "data": {
      "image/png": "[encoded data removed]",
      "text/plain": [
       "<matplotlib.figure.Figure at 0x27e93ee6ac8>"
      ]
     },
     "metadata": {},
     "output_type": "display_data"
    }
   ],
   "source": [
    "plt.xkcd()\n",
    "plt.plot(x, y, color='#5b4878')\n",
    "plt.xlabel('Ранг')\n",
    "plt.ylabel('Частота')\n",
    "plt.title('Зависимость относительной частоты от ранга словоформы')"
   ]
  },
  {
   "cell_type": "markdown",
   "metadata": {},
   "source": [
    "Мы видим, что частота обратно пропорциональна рангу. Чем выше частота, тем меньше ранг, и наоборот."
   ]
  },
  {
   "cell_type": "markdown",
   "metadata": {},
   "source": [
    "Теперь построим то же самое для нормализованного текста."
   ]
  },
  {
   "cell_type": "code",
   "execution_count": 120,
   "metadata": {},
   "outputs": [
    {
     "data": {
      "text/plain": [
       "Text(0.5,1,'Зависимость относительной частоты от ранга леммы')"
      ]
     },
     "execution_count": 120,
     "metadata": {},
     "output_type": "execute_result"
    },
    {
     "data": {
      "image/png": "[encoded data removed]",
      "text/plain": [
       "<matplotlib.figure.Figure at 0x27e86d29588>"
      ]
     },
     "metadata": {},
     "output_type": "display_data"
    }
   ],
   "source": [
    "Rfreq_norm_text = get_Rfreq(norm_text)\n",
    "\n",
    "y = sorted(Rfreq_norm_text.values(), reverse=True) # относительная частота\n",
    "x = sorted(Rank_norm_text.values()) # ранг\n",
    "\n",
    "plt.xkcd()\n",
    "plt.plot(x, y, color='#5b4878')\n",
    "plt.xlabel('Ранг')\n",
    "plt.ylabel('Частота')\n",
    "plt.title('Зависимость относительной частоты от ранга леммы')"
   ]
  },
  {
   "cell_type": "markdown",
   "metadata": {},
   "source": [
    "Как видно, картина аналогичная: частота обратно пропорциональна рангу. Можно сказать, что эмпирический закон Ципфа выполняется. "
   ]
  },
  {
   "cell_type": "markdown",
   "metadata": {},
   "source": [
    "**Выводы**"
   ]
  },
  {
   "cell_type": "markdown",
   "metadata": {},
   "source": [
    "* Исследование показало, что в топе списка частот словоформ в основном встречаются служебные части речи. Их много также и в топе списка частот лемм. Помимо широкого использования в языке, служебные части речи также являются неизменяемыми, поэтому для им не требуется лемматизация.\n",
    "\n",
    "* Лидеры частотности словоформ в выбранном произведении во многом совпадают с лидерами частотности в русском языке в целом, например словоформы *и*, *в*, *не*.\n",
    "\n",
    "* Анализ списка частотности лемм показал, что в выбранном произведении в топе списка частот оказались слова, тесно связанные с тематикой произведения (например *огненный*, *человек*, *дух*. Можно предположить, что в текстах узкой направленности или специализированных текстах в списке частотности лемм будут присутствовать слова, связанные с тематикой текста. \n",
    "\n",
    "* При построении графиков зависимости частоты от ранга для словоформ и лемм выяснилось, что чем выше частота, тем меньше ранг. Частота обратно пропорциональна рангу и для словоформ, и для лемм, что подтверждает закон Ципфа. "
   ]
  }
 ],
 "metadata": {
  "kernelspec": {
   "display_name": "Python 3",
   "language": "python",
   "name": "python3"
  },
  "language_info": {
   "codemirror_mode": {
    "name": "ipython",
    "version": 3
   },
   "file_extension": ".py",
   "mimetype": "text/x-python",
   "name": "python",
   "nbconvert_exporter": "python",
   "pygments_lexer": "ipython3",
   "version": "3.6.3"
  }
 },
 "nbformat": 4,
 "nbformat_minor": 2
}
